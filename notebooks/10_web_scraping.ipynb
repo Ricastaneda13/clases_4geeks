{
 "cells": [
  {
   "cell_type": "code",
   "execution_count": 7,
   "id": "52c6824a",
   "metadata": {},
   "outputs": [],
   "source": [
    "import re\n",
    "from bs4 import BeautifulSoup\n",
    "import requests\n",
    "import pandas as pd"
   ]
  },
  {
   "cell_type": "code",
   "execution_count": 8,
   "id": "ebd8734b",
   "metadata": {},
   "outputs": [],
   "source": [
    "#Load Data\n",
    "\n",
    "url = \"https://en.wikipedia.org/wiki/List_of_U.S._states_by_intentional_homicide_rate\"\n",
    "headers = {'User-Agent': 'MyWebScrapper/1.0'}\n",
    "response = requests.get(url, headers=headers)\n",
    "soup = BeautifulSoup(response.content, 'html.parser')"
   ]
  },
  {
   "cell_type": "code",
   "execution_count": 12,
   "id": "4b920cfb",
   "metadata": {},
   "outputs": [
    {
     "data": {
      "text/plain": [
       "['Location', '2018', '2019', '2020', '2021', '2022']"
      ]
     },
     "execution_count": 12,
     "metadata": {},
     "output_type": "execute_result"
    }
   ],
   "source": [
    "my_tables[0]\n",
    "rows = my_tables[0].find_all('tr')\n",
    "my_headers = rows[0]\n",
    "headers_cells = my_headers.find_all(\"th\")\n",
    "headers_data = []\n",
    "headers_data =[cell.get_text(strip=True)for cell in headers_cells]\n",
    "headers_data"
   ]
  },
  {
   "cell_type": "code",
   "execution_count": 14,
   "id": "09b17a2a",
   "metadata": {},
   "outputs": [
    {
     "ename": "AttributeError",
     "evalue": "ResultSet object has no attribute \"get_text\". You're probably treating a list of elements like a single element. Did you call find_all() when you meant to call find()?",
     "output_type": "error",
     "traceback": [
      "\u001b[31m---------------------------------------------------------------------------\u001b[39m",
      "\u001b[31mAttributeError\u001b[39m                            Traceback (most recent call last)",
      "\u001b[36mCell\u001b[39m\u001b[36m \u001b[39m\u001b[32mIn[14]\u001b[39m\u001b[32m, line 4\u001b[39m\n\u001b[32m      2\u001b[39m \u001b[38;5;28;01mfor\u001b[39;00m i, data_cells \u001b[38;5;129;01min\u001b[39;00m \u001b[38;5;28menumerate\u001b[39m(content_cells):\n\u001b[32m      3\u001b[39m     cells = data_cells.find_all(\u001b[33m\"\u001b[39m\u001b[33mtd\u001b[39m\u001b[33m\"\u001b[39m)\n\u001b[32m----> \u001b[39m\u001b[32m4\u001b[39m     row_data = [\u001b[43mcells\u001b[49m\u001b[43m.\u001b[49m\u001b[43mget_text\u001b[49m(strip=\u001b[38;5;28;01mTrue\u001b[39;00m) \u001b[38;5;28;01mfor\u001b[39;00m cell \u001b[38;5;129;01min\u001b[39;00m cells]\n\u001b[32m      5\u001b[39m     content_data.append(row_data)\n\u001b[32m      6\u001b[39m     \u001b[38;5;28mprint\u001b[39m(row_data)\n",
      "\u001b[36mFile \u001b[39m\u001b[32m/workspaces/clases_4geeks/.venv/lib/python3.12/site-packages/bs4/element.py:2902\u001b[39m, in \u001b[36mResultSet.__getattr__\u001b[39m\u001b[34m(self, key)\u001b[39m\n\u001b[32m   2900\u001b[39m \u001b[38;5;28;01mdef\u001b[39;00m\u001b[38;5;250m \u001b[39m\u001b[34m__getattr__\u001b[39m(\u001b[38;5;28mself\u001b[39m, key: \u001b[38;5;28mstr\u001b[39m) -> \u001b[38;5;28;01mNone\u001b[39;00m:\n\u001b[32m   2901\u001b[39m \u001b[38;5;250m    \u001b[39m\u001b[33;03m\"\"\"Raise a helpful exception to explain a common code fix.\"\"\"\u001b[39;00m\n\u001b[32m-> \u001b[39m\u001b[32m2902\u001b[39m     \u001b[38;5;28;01mraise\u001b[39;00m \u001b[38;5;167;01mAttributeError\u001b[39;00m(\n\u001b[32m   2903\u001b[39m         \u001b[33mf\u001b[39m\u001b[33m\"\"\"\u001b[39m\u001b[33mResultSet object has no attribute \u001b[39m\u001b[33m\"\u001b[39m\u001b[38;5;132;01m{\u001b[39;00mkey\u001b[38;5;132;01m}\u001b[39;00m\u001b[33m\"\u001b[39m\u001b[33m. You\u001b[39m\u001b[33m'\u001b[39m\u001b[33mre probably treating a list of elements like a single element. Did you call find_all() when you meant to call find()?\u001b[39m\u001b[33m\"\"\"\u001b[39m\n\u001b[32m   2904\u001b[39m     )\n",
      "\u001b[31mAttributeError\u001b[39m: ResultSet object has no attribute \"get_text\". You're probably treating a list of elements like a single element. Did you call find_all() when you meant to call find()?"
     ]
    }
   ],
   "source": [
    "content_cells = rows[1:]\n",
    "for i, data_cells in enumerate(content_cells):\n",
    "    cells = data_cells.find_all(\"td\")\n",
    "    row_data = [cells.get_text(strip=True) for cell in cells]\n",
    "    content_data.append(row_data)\n",
    "    print(row_data)"
   ]
  },
  {
   "cell_type": "code",
   "execution_count": null,
   "id": "7a956528",
   "metadata": {},
   "outputs": [],
   "source": []
  }
 ],
 "metadata": {
  "kernelspec": {
   "display_name": ".venv (3.12.1)",
   "language": "python",
   "name": "python3"
  },
  "language_info": {
   "codemirror_mode": {
    "name": "ipython",
    "version": 3
   },
   "file_extension": ".py",
   "mimetype": "text/x-python",
   "name": "python",
   "nbconvert_exporter": "python",
   "pygments_lexer": "ipython3",
   "version": "3.12.1"
  }
 },
 "nbformat": 4,
 "nbformat_minor": 5
}
